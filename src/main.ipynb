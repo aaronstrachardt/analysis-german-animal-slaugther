{
 "cells": [
  {
   "cell_type": "markdown",
   "id": "0bf5747f-cfbf-42c9-aa40-10feeaa01b9d",
   "metadata": {},
   "source": [
    "# Analysis of German Animal Slaughter: Trends, Distribution, and Seasonal Variations"
   ]
  },
  {
   "cell_type": "markdown",
   "id": "b3dc1daaa0ceee39",
   "metadata": {},
   "source": [
    "## Introduction\n",
    "In Germany, the tracking of slaughter statistics is crucial for understanding the dynamics of our agricultural sector and our food production system. The aim of this narrative is to examine the trends, patterns, and seasonal fluctuations of animal slaughters in Germany. It addresses key questions such as the evolution of slaughter numbers over time, the main types of slaughtered animals, regional differences, and seasonal variations. The dataset utilized originates from the [destatis genesis online portal](https://www.destatis.de/EN/Home/_node.html), bearing the code 41331-0001. It's important to note that this dataset does not include poultry."
   ]
  },
  {
   "cell_type": "markdown",
   "id": "e5a228d9756736a0",
   "metadata": {},
   "source": [
    "## Modular Structure\n",
    "\n",
    "This notebook uses a modular code structure to organize the analysis into separate components:\n",
    "\n",
    "- **config**: Contains configuration parameters, constants, and path definitions\n",
    "- **data_preparation**: Functions for loading, cleaning, and preparing the data\n",
    "- **data_validation**: Functions for validating and summarizing the data\n",
    "- **visualization**: Functions for creating various visualizations of the data\n",
    "\n",
    "This modular approach enhances code reusability, maintainability, and organization."
   ]
  },
  {
   "cell_type": "markdown",
   "id": "4a5ed78c",
   "metadata": {},
   "source": [
    "## Data Loading\n",
    "### Imports\n",
    "In this section, we import the Python libraries and modules required for data manipulation and visualization.\n",
    "\n",
    "We import:\n",
    "- **pandas**: for data manipulation\n",
    "- **display**: for a better visualization of the data table\n",
    "- **warnings**: to suppress unnecessary warnings\n",
    "- **modules**: our custom modules containing functions for data preparation, validation, and visualization"
   ]
  },
  {
   "cell_type": "code",
   "execution_count": 1,
   "id": "b4023484e8c5242d",
   "metadata": {},
   "outputs": [],
   "source": [
    "import pandas as pd\n",
    "import numpy as np\n",
    "import os\n",
    "import sys\n",
    "from IPython.display import display\n",
    "import warnings\n",
    "warnings.filterwarnings('ignore')"
   ]
  },
  {
   "cell_type": "code",
   "execution_count": 2,
   "id": "7701dd31-5225-4ad8-af91-f40ade77eca7",
   "metadata": {},
   "outputs": [
    {
     "ename": "ModuleNotFoundError",
     "evalue": "No module named 'geopandas'",
     "output_type": "error",
     "traceback": [
      "\u001b[31m---------------------------------------------------------------------------\u001b[39m",
      "\u001b[31mModuleNotFoundError\u001b[39m                       Traceback (most recent call last)",
      "\u001b[36mCell\u001b[39m\u001b[36m \u001b[39m\u001b[32mIn[2]\u001b[39m\u001b[32m, line 2\u001b[39m\n\u001b[32m      1\u001b[39m \u001b[38;5;66;03m# Import modules\u001b[39;00m\n\u001b[32m----> \u001b[39m\u001b[32m2\u001b[39m \u001b[38;5;28;01mfrom\u001b[39;00m\u001b[38;5;250m \u001b[39m\u001b[34;01mmodules\u001b[39;00m\u001b[34;01m.\u001b[39;00m\u001b[34;01mconfig\u001b[39;00m\u001b[38;5;250m \u001b[39m\u001b[38;5;28;01mimport\u001b[39;00m DATA_PATH, DEFAULT_TIME_RANGE, ANIMAL_SPECIES\n\u001b[32m      3\u001b[39m \u001b[38;5;28;01mfrom\u001b[39;00m\u001b[38;5;250m \u001b[39m\u001b[34;01mmodules\u001b[39;00m\u001b[34;01m.\u001b[39;00m\u001b[34;01mdata_preparation\u001b[39;00m\u001b[38;5;250m \u001b[39m\u001b[38;5;28;01mimport\u001b[39;00m load_data, prepare_data\n\u001b[32m      4\u001b[39m \u001b[38;5;28;01mfrom\u001b[39;00m\u001b[38;5;250m \u001b[39m\u001b[34;01mmodules\u001b[39;00m\u001b[34;01m.\u001b[39;00m\u001b[34;01mdata_validation\u001b[39;00m\u001b[38;5;250m \u001b[39m\u001b[38;5;28;01mimport\u001b[39;00m validate_dataframe, get_data_summary\n",
      "\u001b[36mFile \u001b[39m\u001b[32m~/Code/analysis-german-animal-slaugther/src/modules/__init__.py:10\u001b[39m\n\u001b[32m      8\u001b[39m \u001b[38;5;28;01mfrom\u001b[39;00m\u001b[38;5;250m \u001b[39m\u001b[34;01m.\u001b[39;00m\u001b[38;5;250m \u001b[39m\u001b[38;5;28;01mimport\u001b[39;00m data_preparation\n\u001b[32m      9\u001b[39m \u001b[38;5;28;01mfrom\u001b[39;00m\u001b[38;5;250m \u001b[39m\u001b[34;01m.\u001b[39;00m\u001b[38;5;250m \u001b[39m\u001b[38;5;28;01mimport\u001b[39;00m data_validation\n\u001b[32m---> \u001b[39m\u001b[32m10\u001b[39m \u001b[38;5;28;01mfrom\u001b[39;00m\u001b[38;5;250m \u001b[39m\u001b[34;01m.\u001b[39;00m\u001b[38;5;250m \u001b[39m\u001b[38;5;28;01mimport\u001b[39;00m visualization\n\u001b[32m     12\u001b[39m __all__ = [\u001b[33m'\u001b[39m\u001b[33mconfig\u001b[39m\u001b[33m'\u001b[39m, \u001b[33m'\u001b[39m\u001b[33mdata_preparation\u001b[39m\u001b[33m'\u001b[39m, \u001b[33m'\u001b[39m\u001b[33mdata_validation\u001b[39m\u001b[33m'\u001b[39m, \u001b[33m'\u001b[39m\u001b[33mvisualization\u001b[39m\u001b[33m'\u001b[39m]\n",
      "\u001b[36mFile \u001b[39m\u001b[32m~/Code/analysis-german-animal-slaugther/src/modules/visualization.py:13\u001b[39m\n\u001b[32m     11\u001b[39m \u001b[38;5;28;01mimport\u001b[39;00m\u001b[38;5;250m \u001b[39m\u001b[34;01mplotly\u001b[39;00m\u001b[34;01m.\u001b[39;00m\u001b[34;01mgraph_objects\u001b[39;00m\u001b[38;5;250m \u001b[39m\u001b[38;5;28;01mas\u001b[39;00m\u001b[38;5;250m \u001b[39m\u001b[34;01mgo\u001b[39;00m\n\u001b[32m     12\u001b[39m \u001b[38;5;28;01mfrom\u001b[39;00m\u001b[38;5;250m \u001b[39m\u001b[34;01mtyping\u001b[39;00m\u001b[38;5;250m \u001b[39m\u001b[38;5;28;01mimport\u001b[39;00m Dict, List, Tuple, Optional, Union\n\u001b[32m---> \u001b[39m\u001b[32m13\u001b[39m \u001b[38;5;28;01mimport\u001b[39;00m\u001b[38;5;250m \u001b[39m\u001b[34;01mgeopandas\u001b[39;00m\u001b[38;5;250m \u001b[39m\u001b[38;5;28;01mas\u001b[39;00m\u001b[38;5;250m \u001b[39m\u001b[34;01mgpd\u001b[39;00m\n\u001b[32m     15\u001b[39m \u001b[38;5;28;01mfrom\u001b[39;00m\u001b[38;5;250m \u001b[39m\u001b[34;01m.\u001b[39;00m\u001b[34;01mconfig\u001b[39;00m\u001b[38;5;250m \u001b[39m\u001b[38;5;28;01mimport\u001b[39;00m (\n\u001b[32m     16\u001b[39m     ANIMAL_SPECIES, \n\u001b[32m     17\u001b[39m     PLOT_FIGSIZE, \n\u001b[32m   (...)\u001b[39m\u001b[32m     23\u001b[39m     DEFAULT_TIME_RANGE\n\u001b[32m     24\u001b[39m )\n\u001b[32m     27\u001b[39m \u001b[38;5;28;01mdef\u001b[39;00m\u001b[38;5;250m \u001b[39m\u001b[34mplot_total_animals_slaughtered\u001b[39m(\n\u001b[32m     28\u001b[39m     data: pd.DataFrame, \n\u001b[32m     29\u001b[39m     time_range: Optional[Tuple[\u001b[38;5;28mint\u001b[39m, \u001b[38;5;28mint\u001b[39m]] = \u001b[38;5;28;01mNone\u001b[39;00m,\n\u001b[32m     30\u001b[39m     interactive: \u001b[38;5;28mbool\u001b[39m = \u001b[38;5;28;01mTrue\u001b[39;00m\n\u001b[32m     31\u001b[39m ) -> go.Figure:\n",
      "\u001b[31mModuleNotFoundError\u001b[39m: No module named 'geopandas'"
     ]
    }
   ],
   "source": [
    "# Import modules\n",
    "from modules.config import DATA_PATH, DEFAULT_TIME_RANGE, ANIMAL_SPECIES\n",
    "from modules.data_preparation import load_data, prepare_data\n",
    "from modules.data_validation import validate_dataframe, get_data_summary\n",
    "from modules.visualization import (\n",
    "    plot_total_animals_slaughtered,\n",
    "    plot_most_slaughtered_animals,\n",
    "    plot_animals_by_region,\n",
    "    plot_seasonal_fluctuations,\n",
    "    plot_slaughter_distribution\n",
    ")"
   ]
  },
  {
   "cell_type": "markdown",
   "id": "a815dc04573d2fcc",
   "metadata": {},
   "source": [
    "### Load the dataset\n",
    "We load and prepare the dataset containing information about German animal slaughter. This dataset is crucial for understanding trends and patterns in the slaughter of animals over time, across different states, and by type.\n",
    "\n",
    "The data is loaded using our modular data preparation functions."
   ]
  },
  {
   "cell_type": "code",
   "execution_count": null,
   "id": "74112a9ae79fce3e",
   "metadata": {},
   "outputs": [],
   "source": [
    "# Define the path to the data file\n",
    "data_path = \"../data/animal_slaugther_ger.csv\"\n",
    "\n",
    "# Load and prepare the data\n",
    "print(f\"Loading data from {data_path}...\")\n",
    "raw_data = load_data(data_path)\n",
    "print(\"Preparing data...\")\n",
    "data = prepare_data(raw_data)"
   ]
  },
  {
   "cell_type": "markdown",
   "id": "246cd60ad46a4eb0",
   "metadata": {},
   "source": [
    "### Dataset Overview and Validation\n",
    "We start by examining the structure of our dataset and validating its contents."
   ]
  },
  {
   "cell_type": "code",
   "execution_count": null,
   "id": "d456d030a7031b5c",
   "metadata": {},
   "outputs": [],
   "source": [
    "# Validate the dataset\n",
    "print(\"Validating data...\")\n",
    "validation_results = validate_dataframe(data)\n",
    "\n",
    "if not validation_results['valid']:\n",
    "    print(\"Warning: Data validation issues detected:\")\n",
    "    for error in validation_results['errors']:\n",
    "        print(f\"  - {error}\")\n",
    "else:\n",
    "    print(\"Data validation successful.\")"
   ]
  },
  {
   "cell_type": "code",
   "execution_count": null,
   "id": "3c3437e32c5ff107",
   "metadata": {},
   "outputs": [],
   "source": [
    "# Get summary of the data\n",
    "summary = get_data_summary(data)\n",
    "print(\"\\nData Summary:\")\n",
    "print(f\"  - Shape: {summary['shape']}\")\n",
    "print(f\"  - Years range: {summary['years_range']}\")\n",
    "print(f\"  - Number of states: {len(summary['states'])}\")\n",
    "if 'total_domestic_animals' in summary:\n",
    "    print(f\"  - Total domestic animals: {summary['total_domestic_animals']:,}\")\n",
    "if 'total_foreign_animals' in summary:\n",
    "    print(f\"  - Total foreign animals: {summary['total_foreign_animals']:,}\")\n",
    "if 'total_home_animals' in summary:\n",
    "    print(f\"  - Total home animals: {summary['total_home_animals']:,}\")"
   ]
  },
  {
   "cell_type": "markdown",
   "id": "6b80aba869746f68",
   "metadata": {},
   "source": [
    "Let's display the first few rows of the dataset to understand its structure:"
   ]
  },
  {
   "cell_type": "code",
   "execution_count": null,
   "id": "74112a9ae79fc000",
   "metadata": {},
   "outputs": [],
   "source": [
    "display(data.head())"
   ]
  },
  {
   "cell_type": "markdown",
   "id": "a3f5b2aabc7c9908",
   "metadata": {},
   "source": [
    "For each animal species, there are six columns in the dataset. To reduce clutter and make the column names more concise, we use abbreviations that contain information about the animal species, the type of slaughter, and the type of measurement.\n",
    "\n",
    "The abbreviations are structured as follows:\n",
    "\n",
    "- **Do**: Domestic slaughter\n",
    "- **Fo**: Foreign slaughter\n",
    "- **Ho**: Home slaughter\n",
    "- **Nr**: Animal count\n",
    "- **T**: Quantity in tons\n",
    "\n",
    "So, for example, a column labeled `Oxen_DoNr` would indicate the number of oxen slaughtered domestically, while a column labeled `Oxen_FoT` would indicate the quantity of oxen slaughtered from foreign sources measured in tons."
   ]
  },
  {
   "cell_type": "markdown",
   "id": "7f1d24b7",
   "metadata": {},
   "source": [
    "## Analysis and Visualization\n",
    "\n",
    "Now that we have our data prepared and validated, we can begin our analysis and create visualizations to gain insights into animal slaughter patterns in Germany.\n",
    "\n",
    "### 1. Total Animals Slaughtered Over Time"
   ]
  },
  {
   "cell_type": "code",
   "execution_count": null,
   "id": "a8c45e93",
   "metadata": {},
   "outputs": [],
   "source": [
    "# Set time range for analysis\n",
    "time_range = DEFAULT_TIME_RANGE\n",
    "print(f\"Generating plots for time range: {time_range[0]} to {time_range[1]}...\")\n",
    "\n",
    "# Plot total animals slaughtered over time\n",
    "fig1 = plot_total_animals_slaughtered(data, time_range)\n",
    "fig1.show()"
   ]
  },
  {
   "cell_type": "markdown",
   "id": "ad2fb1b6",
   "metadata": {},
   "source": [
    "### 2. Most Slaughtered Animal Species"
   ]
  },
  {
   "cell_type": "code",
   "execution_count": null,
   "id": "d07db4c1",
   "metadata": {},
   "outputs": [],
   "source": [
    "# Plot most slaughtered animals\n",
    "fig2 = plot_most_slaughtered_animals(data, time_range)\n",
    "fig2.show()"
   ]
  },
  {
   "cell_type": "markdown",
   "id": "9c9ac69c",
   "metadata": {},
   "source": [
    "### 3. Regional Differences in Animal Slaughter"
   ]
  },
  {
   "cell_type": "code",
   "execution_count": null,
   "id": "fa74b384",
   "metadata": {},
   "outputs": [],
   "source": [
    "# Plot animals by region\n",
    "fig3 = plot_animals_by_region(data, time_range)\n",
    "fig3.show()"
   ]
  },
  {
   "cell_type": "markdown",
   "id": "e0e825b1",
   "metadata": {},
   "source": [
    "### 4. Seasonal Fluctuations in Slaughter Rates"
   ]
  },
  {
   "cell_type": "code",
   "execution_count": null,
   "id": "c5d83183",
   "metadata": {},
   "outputs": [],
   "source": [
    "# Plot seasonal fluctuations\n",
    "fig4 = plot_seasonal_fluctuations(data, time_range)\n",
    "fig4.show()"
   ]
  },
  {
   "cell_type": "markdown",
   "id": "f3ac0d7f",
   "metadata": {},
   "source": [
    "### 5. Distribution of Slaughter Methods"
   ]
  },
  {
   "cell_type": "code",
   "execution_count": null,
   "id": "eb8d0a6f",
   "metadata": {},
   "outputs": [],
   "source": [
    "# Plot slaughter distribution\n",
    "fig5 = plot_slaughter_distribution(data, time_range)\n",
    "fig5.show()"
   ]
  },
  {
   "cell_type": "markdown",
   "id": "a8cfb1a7",
   "metadata": {},
   "source": [
    "## Conclusion\n",
    "\n",
    "This analysis provides insights into animal slaughter patterns in Germany from 1991 to 2023. Key findings include:\n",
    "\n",
    "1. **Temporal Trends**: There have been significant changes in the total number of animals slaughtered over time.\n",
    "2. **Animal Distribution**: Certain animal species are slaughtered in much higher numbers than others.\n",
    "3. **Regional Differences**: There are notable variations in slaughter practices across different German states.\n",
    "4. **Seasonal Patterns**: Slaughter rates exhibit seasonal fluctuations, which may be influenced by various factors such as holidays and agricultural cycles.\n",
    "5. **Slaughter Methods**: There are different distributions of domestic, foreign, and home slaughter methods.\n",
    "\n",
    "These insights can be valuable for policymakers, agricultural planners, and researchers interested in understanding and improving animal welfare and food production systems in Germany."
   ]
  }
 ],
 "metadata": {
  "kernelspec": {
   "display_name": "Python 3 (ipykernel)",
   "language": "python",
   "name": "python3"
  },
  "language_info": {
   "codemirror_mode": {
    "name": "ipython",
    "version": 3
   },
   "file_extension": ".py",
   "mimetype": "text/x-python",
   "name": "python",
   "nbconvert_exporter": "python",
   "pygments_lexer": "ipython3",
   "version": "3.12.3"
  }
 },
 "nbformat": 4,
 "nbformat_minor": 5
}
